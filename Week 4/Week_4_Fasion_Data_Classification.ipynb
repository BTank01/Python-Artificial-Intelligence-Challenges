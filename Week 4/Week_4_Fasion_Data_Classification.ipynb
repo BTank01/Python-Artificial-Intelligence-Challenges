{
  "nbformat": 4,
  "nbformat_minor": 0,
  "metadata": {
    "colab": {
      "name": "Week 4 Fasion Data Classification.ipynb",
      "provenance": [],
      "collapsed_sections": []
    },
    "kernelspec": {
      "name": "python3",
      "display_name": "Python 3"
    },
    "language_info": {
      "name": "python"
    }
  },
  "cells": [
    {
      "cell_type": "markdown",
      "source": [
        "#Fashion Data Classification\n",
        "This data contains images of fashion items which are 28x28 pixels. There are 10 classes "
      ],
      "metadata": {
        "id": "EI5A-8KAVx9B"
      }
    },
    {
      "cell_type": "markdown",
      "source": [
        "##Model Training"
      ],
      "metadata": {
        "id": "ccVDEdbKWTMR"
      }
    },
    {
      "cell_type": "code",
      "source": [
        "#Needed imports\n",
        "import numpy as np\n",
        "import tensorflow as tf\n",
        "from tensorflow.keras import layers"
      ],
      "metadata": {
        "id": "h2DhiLEFWVWs"
      },
      "execution_count": 1,
      "outputs": []
    },
    {
      "cell_type": "markdown",
      "source": [
        "Refactors training code into a function to increase reuseablility. Returns the model so that it can be used to make predictions."
      ],
      "metadata": {
        "id": "YGQplRZ0WcFT"
      }
    },
    {
      "cell_type": "code",
      "source": [
        "def trainingFunction(xTrain, yTrain, xTest, yTest):\n",
        "  inputs = tf.keras.Input(shape=(784,))\n",
        "  dense = layers.Dense(64, activation=\"relu\")\n",
        "  x = dense(inputs)\n",
        "  x = layers.Dense(64, activation=\"relu\")(x)\n",
        "  outputs = layers.Dense(10)(x)\n",
        "\n",
        "  model = tf.keras.Model(inputs=inputs, outputs=outputs, name=\"M_model\")\n",
        "  model.summary()\n",
        "\n",
        "  #Compile the model\n",
        "  model.compile(\n",
        "    loss = tf.keras.losses.SparseCategoricalCrossentropy(from_logits=True),\n",
        "    optimizer=tf.keras.optimizers.RMSprop(),\n",
        "    metrics=[\"accuracy\"],\n",
        ")\n",
        "\n",
        "  history = model.fit(xTrain, yTrain, batch_size=64, epochs=5, validation_split=0.2)\n",
        "  testScore = model.evaluate(xTest, yTest, verbose=2)\n",
        "  print(\"Test Accuracy: \", testScore[1])\n",
        "\n",
        "  #Return the model\n",
        "  return model\n"
      ],
      "metadata": {
        "id": "AcZhS9kMWqZr"
      },
      "execution_count": 19,
      "outputs": []
    },
    {
      "cell_type": "code",
      "source": [
        "  #Seperate data to train against\n",
        "  (xTrain, yTrain), (xTest, yTest) = tf.keras.datasets.fashion_mnist.load_data()\n",
        "  xTrain = xTrain.reshape(60000, 784).astype(\"float32\")/255\n",
        "  xTest = xTest.reshape(10000, 784).astype(\"float32\")/255"
      ],
      "metadata": {
        "id": "fQA28S6abOcY"
      },
      "execution_count": 16,
      "outputs": []
    },
    {
      "cell_type": "code",
      "source": [
        "#Call the training function\n",
        "model = trainingFunction(xTrain, yTrain, xTest, yTest)\n"
      ],
      "metadata": {
        "colab": {
          "base_uri": "https://localhost:8080/"
        },
        "id": "jzoWhBZpXDF7",
        "outputId": "cefaa819-7afc-46db-a07a-3e86bcf0a844"
      },
      "execution_count": 20,
      "outputs": [
        {
          "output_type": "stream",
          "name": "stdout",
          "text": [
            "Model: \"M_model\"\n",
            "_________________________________________________________________\n",
            " Layer (type)                Output Shape              Param #   \n",
            "=================================================================\n",
            " input_4 (InputLayer)        [(None, 784)]             0         \n",
            "                                                                 \n",
            " dense_9 (Dense)             (None, 64)                50240     \n",
            "                                                                 \n",
            " dense_10 (Dense)            (None, 64)                4160      \n",
            "                                                                 \n",
            " dense_11 (Dense)            (None, 10)                650       \n",
            "                                                                 \n",
            "=================================================================\n",
            "Total params: 55,050\n",
            "Trainable params: 55,050\n",
            "Non-trainable params: 0\n",
            "_________________________________________________________________\n",
            "Epoch 1/5\n",
            "750/750 [==============================] - 3s 4ms/step - loss: 0.5728 - accuracy: 0.7992 - val_loss: 0.4262 - val_accuracy: 0.8484\n",
            "Epoch 2/5\n",
            "750/750 [==============================] - 3s 4ms/step - loss: 0.4054 - accuracy: 0.8532 - val_loss: 0.3772 - val_accuracy: 0.8617\n",
            "Epoch 3/5\n",
            "750/750 [==============================] - 3s 3ms/step - loss: 0.3638 - accuracy: 0.8668 - val_loss: 0.3640 - val_accuracy: 0.8691\n",
            "Epoch 4/5\n",
            "750/750 [==============================] - 3s 3ms/step - loss: 0.3398 - accuracy: 0.8761 - val_loss: 0.3655 - val_accuracy: 0.8655\n",
            "Epoch 5/5\n",
            "750/750 [==============================] - 3s 4ms/step - loss: 0.3232 - accuracy: 0.8824 - val_loss: 0.3670 - val_accuracy: 0.8679\n",
            "313/313 - 0s - loss: 0.3958 - accuracy: 0.8593 - 360ms/epoch - 1ms/step\n",
            "Test Accuracy:  0.8593000173568726\n"
          ]
        }
      ]
    },
    {
      "cell_type": "code",
      "source": [
        "#Call the confusion matrix\n",
        "confusionMatrix(model, xTest, yTest)"
      ],
      "metadata": {
        "colab": {
          "base_uri": "https://localhost:8080/",
          "height": 265
        },
        "id": "K4mmVJ6rbvFY",
        "outputId": "ed0d2e43-b2d6-4c95-b4d9-86ac584bb554"
      },
      "execution_count": 21,
      "outputs": [
        {
          "output_type": "display_data",
          "data": {
            "image/png": "[encoded data removed]",
            "text/plain": [
              "<Figure size 432x288 with 2 Axes>"
            ]
          },
          "metadata": {
            "needs_background": "light"
          }
        }
      ]
    },
    {
      "cell_type": "markdown",
      "source": [
        "##Fashion Data Confusion Matrix\n",
        "General function and should work for similar problems"
      ],
      "metadata": {
        "id": "u-fxKHZFZhO4"
      }
    },
    {
      "cell_type": "code",
      "source": [
        "#Additional Confusion Matrix requirements\n",
        "from sklearn.metrics import confusion_matrix\n",
        "import matplotlib.pyplot as plt"
      ],
      "metadata": {
        "id": "Ao8DQnQEZw0K"
      },
      "execution_count": 7,
      "outputs": []
    },
    {
      "cell_type": "code",
      "source": [
        "def confusionMatrix(model, xTest, yTest):\n",
        "  predictions = model.predict(xTest).argmax(axis=1)\n",
        "  cMatrix = confusion_matrix(yTest, predictions)\n",
        "  plt.imshow(cMatrix)\n",
        "  plt.colorbar()"
      ],
      "metadata": {
        "id": "MuocEeaBZ-KK"
      },
      "execution_count": 12,
      "outputs": []
    }
  ]
}