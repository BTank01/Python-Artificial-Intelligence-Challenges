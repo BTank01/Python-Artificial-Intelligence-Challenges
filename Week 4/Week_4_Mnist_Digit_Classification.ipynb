{
  "nbformat": 4,
  "nbformat_minor": 0,
  "metadata": {
    "colab": {
      "name": "Week 4 Mnist Digit Classification.ipynb",
      "provenance": []
    },
    "kernelspec": {
      "name": "python3",
      "display_name": "Python 3"
    },
    "language_info": {
      "name": "python"
    }
  },
  "cells": [
    {
      "cell_type": "markdown",
      "source": [
        "#Build Model"
      ],
      "metadata": {
        "id": "S4oaesBbii6p"
      }
    },
    {
      "cell_type": "markdown",
      "source": [
        "Import needed moduels"
      ],
      "metadata": {
        "id": "mOf8AtvRf54d"
      }
    },
    {
      "cell_type": "code",
      "source": [
        "import numpy as np\n",
        "import tensorflow as tf\n",
        "from tensorflow.keras import layers"
      ],
      "metadata": {
        "id": "FGjtKXazgJUb"
      },
      "execution_count": 1,
      "outputs": []
    },
    {
      "cell_type": "markdown",
      "source": [
        "784 as all images are 28x28 pixels."
      ],
      "metadata": {
        "id": "4ozGLBzbgWba"
      }
    },
    {
      "cell_type": "code",
      "source": [
        "inputs = tf.keras.Input(shape=(784,))"
      ],
      "metadata": {
        "id": "RDTnfaw0gdUm"
      },
      "execution_count": 2,
      "outputs": []
    },
    {
      "cell_type": "markdown",
      "source": [
        "Defines first layer of neurons. Transforms 794 inputs into 64 using the relu function. Then applies function to inputs."
      ],
      "metadata": {
        "id": "cO1EgwQqgjD-"
      }
    },
    {
      "cell_type": "code",
      "source": [
        "dense = layers.Dense(64, activation=\"relu\")\n",
        "x = dense(inputs)"
      ],
      "metadata": {
        "id": "FTe1ozLJgu4s"
      },
      "execution_count": 3,
      "outputs": []
    },
    {
      "cell_type": "markdown",
      "source": [
        "Passes x into the next layer also 64 dimensions to extract features.\n",
        "Passes these to a final layout of 10 dimension representation 0 - 9 as outputs."
      ],
      "metadata": {
        "id": "rQhmDwD5g9l-"
      }
    },
    {
      "cell_type": "code",
      "source": [
        "x = layers.Dense(64, activation=\"relu\")(x)\n",
        "outputs = layers.Dense(10)(x)"
      ],
      "metadata": {
        "id": "KklxWCBwhA4M"
      },
      "execution_count": 4,
      "outputs": []
    },
    {
      "cell_type": "markdown",
      "source": [
        "Uses the defined layers to build the model. Then displays useful information about the model."
      ],
      "metadata": {
        "id": "jx5KzikwhEHf"
      }
    },
    {
      "cell_type": "code",
      "source": [
        "model = tf.keras.Model(inputs=inputs, outputs=outputs, name=\"M_model\")\n",
        "model.summary()"
      ],
      "metadata": {
        "colab": {
          "base_uri": "https://localhost:8080/"
        },
        "id": "4dlOUHQYhNc3",
        "outputId": "707f948e-63f4-43e4-e14b-fe3b6a1e9d50"
      },
      "execution_count": 5,
      "outputs": [
        {
          "output_type": "stream",
          "name": "stdout",
          "text": [
            "Model: \"M_model\"\n",
            "_________________________________________________________________\n",
            " Layer (type)                Output Shape              Param #   \n",
            "=================================================================\n",
            " input_1 (InputLayer)        [(None, 784)]             0         \n",
            "                                                                 \n",
            " dense (Dense)               (None, 64)                50240     \n",
            "                                                                 \n",
            " dense_1 (Dense)             (None, 64)                4160      \n",
            "                                                                 \n",
            " dense_2 (Dense)             (None, 10)                650       \n",
            "                                                                 \n",
            "=================================================================\n",
            "Total params: 55,050\n",
            "Trainable params: 55,050\n",
            "Non-trainable params: 0\n",
            "_________________________________________________________________\n"
          ]
        }
      ]
    },
    {
      "cell_type": "markdown",
      "source": [
        "Loads training and testing data. Image pixels are between 0 - 255 so divide by 255 to get between 0 - 1  "
      ],
      "metadata": {
        "id": "RFAfCF07hoVu"
      }
    },
    {
      "cell_type": "code",
      "source": [
        "(xTrain, yTrain), (xTest, yTest) = tf.keras.datasets.mnist.load_data()\n",
        "xTrain = xTrain.reshape(60000, 784).astype(\"float32\")/255\n",
        "xTest = xTest.reshape(10000, 784).astype(\"float32\")/255\n"
      ],
      "metadata": {
        "colab": {
          "base_uri": "https://localhost:8080/"
        },
        "id": "7SlKFm4Sh5-x",
        "outputId": "85690e89-4d92-4bdb-d45b-b8fb4efe4c64"
      },
      "execution_count": 6,
      "outputs": [
        {
          "output_type": "stream",
          "name": "stdout",
          "text": [
            "Downloading data from https://storage.googleapis.com/tensorflow/tf-keras-datasets/mnist.npz\n",
            "11493376/11490434 [==============================] - 0s 0us/step\n",
            "11501568/11490434 [==============================] - 0s 0us/step\n"
          ]
        }
      ]
    },
    {
      "cell_type": "markdown",
      "source": [
        "Compliles model to something that can be used.\n",
        "\n",
        "1. Need a loss function to determine how good its predictions are.\n",
        "1. An Optimiser\n",
        "1. Accuracy metrics to report on how accurate the predictions are.\n",
        "\n",
        "Then train the model."
      ],
      "metadata": {
        "id": "26VskbHLiuVX"
      }
    },
    {
      "cell_type": "code",
      "source": [
        "model.compile(\n",
        "    loss = tf.keras.losses.SparseCategoricalCrossentropy(from_logits=True),\n",
        "    optimizer=tf.keras.optimizers.RMSprop(),\n",
        "    metrics=[\"accuracy\"],\n",
        ")\n",
        "\n",
        "history = model.fit(xTrain, yTrain, batch_size=64, epochs=2, validation_split=0.2)\n",
        "testScore = model.evaluate(xTest, yTest, verbose=2)\n",
        "print(\"Test Accuracy: \", testScore[1])"
      ],
      "metadata": {
        "colab": {
          "base_uri": "https://localhost:8080/"
        },
        "id": "7w6qzhhdjS5m",
        "outputId": "ff052540-99c8-493e-88cc-3c9a8fbff823"
      },
      "execution_count": 7,
      "outputs": [
        {
          "output_type": "stream",
          "name": "stdout",
          "text": [
            "Epoch 1/2\n",
            "750/750 [==============================] - 3s 3ms/step - loss: 0.3459 - accuracy: 0.9003 - val_loss: 0.1898 - val_accuracy: 0.9438\n",
            "Epoch 2/2\n",
            "750/750 [==============================] - 2s 3ms/step - loss: 0.1575 - accuracy: 0.9526 - val_loss: 0.1419 - val_accuracy: 0.9586\n",
            "313/313 - 0s - loss: 0.1441 - accuracy: 0.9581 - 359ms/epoch - 1ms/step\n",
            "Test Accuracy:  0.9581000208854675\n"
          ]
        }
      ]
    },
    {
      "cell_type": "markdown",
      "source": [
        "#Confusion Matrix"
      ],
      "metadata": {
        "id": "n7M8d--HlJoK"
      }
    },
    {
      "cell_type": "markdown",
      "source": [
        "Imports for the confusion matrix"
      ],
      "metadata": {
        "id": "H9TIZuWyn2Ny"
      }
    },
    {
      "cell_type": "code",
      "source": [
        "from sklearn.metrics import confusion_matrix\n",
        "import matplotlib.pyplot as plt"
      ],
      "metadata": {
        "id": "bvmYjCApn5ge"
      },
      "execution_count": 8,
      "outputs": []
    },
    {
      "cell_type": "markdown",
      "source": [
        "Uses the model to make predictions"
      ],
      "metadata": {
        "id": "CIbS_-zzlPsO"
      }
    },
    {
      "cell_type": "code",
      "source": [
        "predictions = model.predict(xTest).argmax(axis=1)"
      ],
      "metadata": {
        "id": "oK3CxudDljcD"
      },
      "execution_count": 9,
      "outputs": []
    },
    {
      "cell_type": "markdown",
      "source": [
        "Creates a confusion matrix"
      ],
      "metadata": {
        "id": "CJUX6N8FnPi7"
      }
    },
    {
      "cell_type": "code",
      "source": [
        "cMatrix = confusion_matrix(yTest, predictions)\n",
        "plt.imshow(cMatrix)\n",
        "plt.colorbar()"
      ],
      "metadata": {
        "colab": {
          "base_uri": "https://localhost:8080/",
          "height": 283
        },
        "id": "fqq1wq9LnXPg",
        "outputId": "d9c63ef0-ab2c-40f1-8f32-6d8577ed79df"
      },
      "execution_count": 10,
      "outputs": [
        {
          "output_type": "execute_result",
          "data": {
            "text/plain": [
              "<matplotlib.colorbar.Colorbar at 0x7fe4399dc7d0>"
            ]
          },
          "metadata": {},
          "execution_count": 10
        },
        {
          "output_type": "display_data",
          "data": {
            "image/png": "[encoded data removed]",
            "text/plain": [
              "<Figure size 432x288 with 2 Axes>"
            ]
          },
          "metadata": {
            "needs_background": "light"
          }
        }
      ]
    },
    {
      "cell_type": "markdown",
      "source": [
        "Shows the matrix"
      ],
      "metadata": {
        "id": "ngFZ7oqIoIc2"
      }
    },
    {
      "cell_type": "code",
      "source": [
        "plt.show()"
      ],
      "metadata": {
        "id": "-_LOi_znoKO3"
      },
      "execution_count": null,
      "outputs": []
    }
  ]
}